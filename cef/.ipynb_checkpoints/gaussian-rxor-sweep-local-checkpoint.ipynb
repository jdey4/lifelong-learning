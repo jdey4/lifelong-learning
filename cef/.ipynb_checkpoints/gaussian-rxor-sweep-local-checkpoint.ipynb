{
 "cells": [
  {
   "cell_type": "code",
   "execution_count": 4,
   "metadata": {},
   "outputs": [],
   "source": [
    "import numpy as np\n",
    "import matplotlib.pyplot as plt\n",
    "import seaborn as sns\n",
    "\n",
    "from sklearn.ensemble.forest import _generate_unsampled_indices\n",
    "from sklearn.ensemble.forest import _generate_sample_indices\n",
    "\n",
    "from sklearn.ensemble import BaggingClassifier\n",
    "from sklearn.tree import DecisionTreeClassifier\n",
    "\n",
    "from tqdm import tqdm_notebook as tqdm\n",
    "\n",
    "from joblib import Parallel, delayed"
   ]
  },
  {
   "cell_type": "code",
   "execution_count": 5,
   "metadata": {},
   "outputs": [],
   "source": [
    "n_mc = 50 # number of simulation repititions\n",
    "\n",
    "n_xor = 100\n",
    "n_rxor = 100 # number of training samples \n",
    "thetas = np.arange(0, 180)\n",
    "m = 1000 # number of test samples each monte carlo iteration\n",
    "nR=30\n",
    "d = 2"
   ]
  },
  {
   "cell_type": "code",
   "execution_count": 6,
   "metadata": {},
   "outputs": [],
   "source": [
    "import pickle\n",
    "# RXOR SWEEP DATA\n",
    "mean_error_xor_rxor = pickle.load(open('data/gaussian-rxor-sweep/mean_error_rxor_sweep_nmc%i_nD%i_nxor%i_nrxor%i_m%i.pkl'%(n_mc, nR,\n",
    "                                                                                                                         n_xor, n_rxor,\n",
    "                                                                                                                         m),\n",
    "                                      'rb'))\n",
    "                                    \n",
    "\n",
    "std_error_xor_rxor = pickle.load(open('data/gaussian-rxor-sweep/std_error_rxor_sweep_nmc%i_nD%i_nxor%i_nrxor%i_m%i.pkl'%(n_mc, nR,\n",
    "                                                                                                                         n_xor, n_rxor,\n",
    "                                                                                                                         m),\n",
    "                                      'rb'))\n",
    "\n",
    "mean_te_xor_rxor = pickle.load(open('data/gaussian-rxor-sweep/mean_te_rxor_sweep_nmc%i_nD%i_nxor%i_nrxor%i_m%i.pkl'%(n_mc, nR,\n",
    "                                                                                                                         n_xor, n_rxor,\n",
    "                                                                                                                         m),\n",
    "                                      'rb'))\n",
    "\n",
    "std_te_xor_rxor = pickle.load(open('data/gaussian-rxor-sweep/std_te_rxor_sweep_nmc%i_nD%i_nxor%i_nrxor%i_m%i.pkl'%(n_mc, nR,\n",
    "                                                                                                                         n_xor, n_rxor,\n",
    "                                                                                                                         m),\n",
    "                                      'rb'))"
   ]
  },
  {
   "cell_type": "code",
   "execution_count": null,
   "metadata": {},
   "outputs": [],
   "source": [
    "# ROTATED CIFAR SWEEP DATA\n"
   ]
  },
  {
   "cell_type": "code",
   "execution_count": null,
   "metadata": {},
   "outputs": [],
   "source": []
  }
 ],
 "metadata": {
  "kernelspec": {
   "display_name": "Python 3",
   "language": "python",
   "name": "python3"
  },
  "language_info": {
   "codemirror_mode": {
    "name": "ipython",
    "version": 3
   },
   "file_extension": ".py",
   "mimetype": "text/x-python",
   "name": "python",
   "nbconvert_exporter": "python",
   "pygments_lexer": "ipython3",
   "version": "3.6.9"
  }
 },
 "nbformat": 4,
 "nbformat_minor": 4
}
