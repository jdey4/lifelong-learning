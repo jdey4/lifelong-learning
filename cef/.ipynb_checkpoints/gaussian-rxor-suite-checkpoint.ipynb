{
 "cells": [
  {
   "cell_type": "code",
   "execution_count": 81,
   "metadata": {},
   "outputs": [],
   "source": [
    "import numpy as np\n",
    "import matplotlib.pyplot as plt\n",
    "import seaborn as sns\n",
    "sns.set()\n",
    "\n",
    "from sklearn.ensemble.forest import _generate_unsampled_indices\n",
    "from sklearn.ensemble.forest import _generate_sample_indices\n",
    "\n",
    "from sklearn.ensemble import BaggingClassifier\n",
    "from sklearn.tree import DecisionTreeClassifier\n",
    "\n",
    "from tqdm import tqdm\n",
    "\n",
    "from joblib import Parallel, delayed"
   ]
  },
  {
   "cell_type": "code",
   "execution_count": 3,
   "metadata": {},
   "outputs": [],
   "source": [
    "# Should use this class to generate CIFAR fig..\n",
    "class LifelongForest:\n",
    "    \"\"\"\n",
    "    Lifelong Forest class.\n",
    "    \"\"\"\n",
    "    def __init__(self, acorn=None):\n",
    "        \"\"\"\n",
    "        Two major things the Forest Class needs access to:\n",
    "            1) the realized random forest model (self.models_ is a list of forests, 1 for each task)\n",
    "            2) old data (to update posteriors when a new task is introduced)\n",
    "        \"\"\"\n",
    "        self.models_ = []\n",
    "        self.X_ = []\n",
    "        self.y_ = []\n",
    "        self.n_tasks = 0\n",
    "        self.n_classes = None\n",
    "        \n",
    "        if acorn is not None:\n",
    "            np.random.seed(acorn)\n",
    "    \n",
    "    def new_forest(self, X, y, n_estimators=200, max_samples=0.32,\n",
    "                        bootstrap=True, max_depth=30, min_samples_leaf=1,\n",
    "                        acorn=None):\n",
    "        \"\"\"\n",
    "        Input\n",
    "        X: an array-like object of features; X.shape == (n_samples, n_features)\n",
    "        y: an array-like object of class labels; len(y) == n_samples\n",
    "        n_estimators: int; number of trees to construct (default = 200)\n",
    "        max_samples: float in (0, 1]: number of samples to consider when \n",
    "            constructing a new tree (default = 0.32)\n",
    "        bootstrap: bool; If True then the samples are sampled with replacement\n",
    "        max_depth: int; maximum depth of a tree\n",
    "        min_samples_leaf: int; minimum number of samples in a leaf node\n",
    "        \n",
    "        Return\n",
    "        model: a BaggingClassifier fit to X, y\n",
    "        \"\"\"\n",
    "        \n",
    "        if X.ndim == 1:\n",
    "            raise ValueError('1d data will cause headaches down the road')\n",
    "            \n",
    "        if acorn is not None:\n",
    "            np.random.seed(acorn)\n",
    "            \n",
    "        self.X_.append(X)\n",
    "        self.y_.append(y)\n",
    "            \n",
    "        n = X.shape[0]\n",
    "        K = len(np.unique(y))\n",
    "        \n",
    "        if self.n_classes is None:\n",
    "            self.n_classes = K\n",
    "        \n",
    "        max_features = int(np.ceil(np.sqrt(X.shape[1])))\n",
    "\n",
    "        model=BaggingClassifier(DecisionTreeClassifier(max_depth=max_depth, min_samples_leaf=min_samples_leaf,\n",
    "                                                         max_features = max_features),\n",
    "                                  n_estimators=n_estimators,\n",
    "                                  max_samples=max_samples,\n",
    "                                  bootstrap=bootstrap)\n",
    "\n",
    "        model.fit(X, y)\n",
    "        self.models_.append(model)\n",
    "        self.n_tasks += 1\n",
    "        self.n_classes = len(np.unique(y))\n",
    "        \n",
    "        return model\n",
    "    \n",
    "    \n",
    "    def _get_leaves(self, estimator):\n",
    "        \"\"\"\n",
    "        Internal function to get leaf node ids of estimator.\n",
    "        \n",
    "        Input\n",
    "        estimator: a fit DecisionTreeClassifier\n",
    "        \n",
    "        Return\n",
    "        leaf_ids: numpy array; an array of leaf node ids\n",
    "        \n",
    "        Usage\n",
    "        _estimate_posteriors(..)\n",
    "        \"\"\"\n",
    "        \n",
    "        # adapted from https://scikit-learn.org/stable/auto_examples/tree/plot_unveil_tree_structure.html\n",
    "        n_nodes = estimator.tree_.node_count\n",
    "        children_left = estimator.tree_.children_left\n",
    "        children_right = estimator.tree_.children_right\n",
    "        feature = estimator.tree_.feature\n",
    "        threshold = estimator.tree_.threshold\n",
    "\n",
    "        leaf_ids = []\n",
    "        stack = [(0, -1)] \n",
    "        while len(stack) > 0:\n",
    "            node_id, parent_depth = stack.pop()\n",
    "\n",
    "            # If we have a test node\n",
    "            if (children_left[node_id] != children_right[node_id]):\n",
    "                stack.append((children_left[node_id], parent_depth + 1))\n",
    "                stack.append((children_right[node_id], parent_depth + 1))\n",
    "            else:\n",
    "                leaf_ids.append(node_id)\n",
    "\n",
    "        return np.array(leaf_ids)\n",
    "    \n",
    "    \n",
    "    def _finite_sample_correction(self, class_probs, row_sums):\n",
    "        \"\"\"\n",
    "        An internal function for finite sample correction of posterior estimation.\n",
    "        \n",
    "        Input\n",
    "        class_probs: numpy array; array of posteriors to correct\n",
    "        row_sums: numpy array; array of partition counts\n",
    "        \n",
    "        Output\n",
    "        class_probs: numpy array; finite sample corrected posteriors\n",
    "        \n",
    "        Usage\n",
    "        _estimate_posteriors(..)\n",
    "        \n",
    "        \"\"\"\n",
    "    \n",
    "        where_0 = np.argwhere(class_probs == 0)\n",
    "        for elem in where_0:\n",
    "            class_probs[elem[0], elem[1]] = 1 / (2 * row_sums[elem[0], None])\n",
    "        where_1 = np.argwhere(class_probs == 1)\n",
    "        for elem in where_1:\n",
    "            class_probs[elem[0], elem[1]] = 1 - 1 / (2 * row_sums[elem[0], None])\n",
    "    \n",
    "        return class_probs\n",
    "    \n",
    "    \n",
    "    def _estimate_posteriors(self, test, representation=0, decider=0, subsample=1, acorn=None):\n",
    "        \"\"\"\n",
    "        An internal function to estimate the posteriors.\n",
    "        \n",
    "        Input\n",
    "        task_number: int; indicates which model in self.model_ to use\n",
    "        test: array-like; test observation\n",
    "        in_task: bool; True if test is an in-task observation(s)\n",
    "        subsample: float in (0, 1]; proportion of out-of-task samples to use to\n",
    "            estimate posteriors\n",
    "            \n",
    "        Return\n",
    "        probs: numpy array; probs[i, k] is the probability of observation i\n",
    "            being class k\n",
    "            \n",
    "        Usage\n",
    "        predict(..)\n",
    "        \"\"\"\n",
    "        \n",
    "        if acorn is not None:\n",
    "            acorn = np.random.seed(acorn)\n",
    "            \n",
    "        if representation==decider:\n",
    "            in_task=True\n",
    "        else:\n",
    "            in_task=False\n",
    "            \n",
    "        train = self.X_[decider]\n",
    "        y = self.y_[decider]\n",
    "            \n",
    "        model = self.models_[representation]\n",
    "\n",
    "        n, d = train.shape\n",
    "        \n",
    "        if test.ndim > 1:\n",
    "            m, d_ = test.shape\n",
    "        else:\n",
    "            m = len(test)\n",
    "            d_ = 1\n",
    "        \n",
    "        size = len(np.unique(y))\n",
    "        class_counts = np.zeros((m, size))\n",
    "        for tree in model:\n",
    "            # get out of bag indicies\n",
    "            if in_task:\n",
    "                prob_indices = _generate_unsampled_indices(tree.random_state, n)\n",
    "                # in_bag_idx = _generate_sample_indices(tree.random_state, n) # this is not behaving as i expected\n",
    "            else:\n",
    "                prob_indices = np.random.choice(range(n), size=int(subsample*n), replace=False)\n",
    "\n",
    "            leaf_nodes = self._get_leaves(tree)\n",
    "            unique_leaf_nodes = np.unique(leaf_nodes)\n",
    "\n",
    "            # get all node counts\n",
    "            node_counts = tree.tree_.n_node_samples\n",
    "            # get probs for eval samples\n",
    "            posterior_class_counts = np.zeros((len(unique_leaf_nodes), size))\n",
    "\n",
    "            for prob_index in prob_indices:\n",
    "                temp_node = tree.apply(train[prob_index].reshape(1, -1)).item()\n",
    "                posterior_class_counts[np.where(unique_leaf_nodes == temp_node)[0][0], y[prob_index]] += 1\n",
    "\n",
    "            # total number of points in a node\n",
    "            row_sums = posterior_class_counts.sum(axis=1)\n",
    "\n",
    "            # no divide by zero\n",
    "            row_sums[row_sums == 0] = 1\n",
    "\n",
    "            # posteriors\n",
    "            class_probs = (posterior_class_counts / row_sums[:, None])\n",
    "            # posteriors with finite sampling correction\n",
    "\n",
    "            class_probs = self._finite_sample_correction(class_probs, row_sums)\n",
    "\n",
    "            # posteriors as a list\n",
    "            class_probs.tolist()\n",
    "\n",
    "            partition_counts = np.asarray([node_counts[np.where(unique_leaf_nodes == x)[0][0]] for x in tree.apply(test)])\n",
    "            # get probability for out of bag samples\n",
    "            eval_class_probs = [class_probs[np.where(unique_leaf_nodes == x)[0][0]] for x in tree.apply(test)]\n",
    "            eval_class_probs = np.array(eval_class_probs)\n",
    "            # find total elements for out of bag samples\n",
    "            elems = np.multiply(eval_class_probs, partition_counts[:, np.newaxis])\n",
    "            # store counts for each x (repeat fhis for each tree)\n",
    "            class_counts += elems\n",
    "        # calculate p(y|X = x) for all x's\n",
    "        probs = class_counts / class_counts.sum(axis=1, keepdims=True)\n",
    "\n",
    "        return probs\n",
    "\n",
    "\n",
    "    def predict(self, test, representation=0, decider='all', subsample=1, acorn=None):\n",
    "        \"\"\"\n",
    "        Predicts the class labels for each sample in test.\n",
    "        \n",
    "        Input\n",
    "        test: array-like; either a 1d array of length n_features\n",
    "            or a 2d array of shape (m, n_features) \n",
    "        task_number: int; task number \n",
    "        \"\"\"\n",
    "        \n",
    "        size=len(np.unique(self.y_[decider]))\n",
    "        sum_posteriors = np.zeros((test.shape[0], size))\n",
    "        \n",
    "        if representation is 'all':\n",
    "            for i in range(self.n_tasks):\n",
    "                sum_posteriors += self._estimate_posteriors(test,\n",
    "                                                            i,\n",
    "                                                            decider,\n",
    "                                                            subsample,\n",
    "                                                            acorn)\n",
    "            \n",
    "        else:\n",
    "            sum_posteriors += self._estimate_posteriors(test,\n",
    "                                                        representation,\n",
    "                                                        decider,\n",
    "                                                        subsample,\n",
    "                                                        acorn)\n",
    "                \n",
    "        return np.argmax(sum_posteriors, axis=1)"
   ]
  },
  {
   "cell_type": "code",
   "execution_count": 6,
   "metadata": {},
   "outputs": [],
   "source": [
    "def generate_2d_rotation(theta=0, acorn=None):\n",
    "    if acorn is not None:\n",
    "        np.random.seed(acorn)\n",
    "    \n",
    "    R = np.array([\n",
    "        [np.cos(theta), np.sin(theta)],\n",
    "        [-np.sin(theta), np.cos(theta)]\n",
    "    ])\n",
    "    \n",
    "    return R\n",
    "\n",
    "def generate_gaussian_parity(n, mean=np.array([-1, -1]), cov_scale=1, angle_params=None, k=1, acorn=None):\n",
    "    if acorn is not None:\n",
    "        np.random.seed(acorn)\n",
    "        \n",
    "    d = len(mean)\n",
    "    \n",
    "    if mean[0] == -1 and mean[1] == -1:\n",
    "        mean = mean + 1 / 2**k\n",
    "    \n",
    "    mnt = np.random.multinomial(n, 1/(4**k) * np.ones(4**k))\n",
    "    cumsum = np.cumsum(mnt)\n",
    "    cumsum = np.concatenate(([0], cumsum))\n",
    "    \n",
    "    Y = np.zeros(n)\n",
    "    X = np.zeros((n, d))\n",
    "    \n",
    "    for i in range(2**k):\n",
    "        for j in range(2**k):\n",
    "            temp = np.random.multivariate_normal(mean, cov_scale * np.eye(d), \n",
    "                                                 size=mnt[i*(2**k) + j])\n",
    "            temp[:, 0] += i*(1/2**(k-1))\n",
    "            temp[:, 1] += j*(1/2**(k-1))\n",
    "            \n",
    "            X[cumsum[i*(2**k) + j]:cumsum[i*(2**k) + j + 1]] = temp\n",
    "            \n",
    "            if i % 2 == j % 2:\n",
    "                Y[cumsum[i*(2**k) + j]:cumsum[i*(2**k) + j + 1]] = 0\n",
    "            else:\n",
    "                Y[cumsum[i*(2**k) + j]:cumsum[i*(2**k) + j + 1]] = 1\n",
    "                \n",
    "    if d == 2:\n",
    "        if angle_params is None:\n",
    "            angle_params = np.random.uniform(0, 2*np.pi)\n",
    "            \n",
    "        R = generate_2d_rotation(angle_params)\n",
    "        X = X @ R\n",
    "        \n",
    "    else:\n",
    "        raise ValueError('d=%i not implemented!'%(d))\n",
    "       \n",
    "    return X, Y.astype(int)\n",
    "\n",
    "def get_colors(colors, inds):\n",
    "    c = [colors[i] for i in inds]\n",
    "    return c\n",
    "\n",
    "def deg_to_rad(deg):\n",
    "    return deg * np.pi / 180"
   ]
  },
  {
   "cell_type": "code",
   "execution_count": 110,
   "metadata": {},
   "outputs": [],
   "source": [
    "def rxor_suite_experiment(n_training_sets, ns, fracs, func, m=300, acorn=None):\n",
    "    if acorn is not None:\n",
    "        np.random.seed(acorn)\n",
    "    \n",
    "    n_tasks = len(fracs)\n",
    "    \n",
    "    assert n_tasks == len(ns)\n",
    "    \n",
    "    errors = [np.zeros(n_tasks-i) for i in range(n_tasks)]\n",
    "    STL_errors = np.zeros(n_tasks)\n",
    "\n",
    "    ratios = [np.zeros(n_tasks-i) for i in range(n_tasks)]\n",
    "    \n",
    "    for i in range(n_tasks):\n",
    "        risks = np.zeros((i+1,n_training_sets)) \n",
    "        STL_risks = np.zeros(n_training_sets) \n",
    "        for s in range(n_training_sets):\n",
    "            L2F = LifelongForest()\n",
    "            for j, f in enumerate(fracs[:i+1]):\n",
    "                temp_X, temp_y = func(ns[j], angle_params=f, cov_scale=0.1)\n",
    "                L2F.new_forest(temp_X, temp_y, n_estimators=int(np.sqrt(ns[j])))\n",
    "\n",
    "            for j, f in enumerate(fracs[:i+1]):\n",
    "                test_X, test_y = func(m, angle_params=f, cov_scale=0.1)\n",
    "\n",
    "                risks[j,s] = 1 - np.sum(L2F.predict(test_X, representation='all', decider=j) == test_y)/m\n",
    "            STL_risks[s] = 1 - np.sum(L2F.predict(test_X, representation=i, decider=i) == test_y)/m\n",
    "\n",
    "        STL_errors[i] = np.mean(STL_risks)\n",
    "\n",
    "        average_risks = np.mean(risks, axis=1)\n",
    "        for j in range(i+1):\n",
    "            errors[j][i-j] = average_risks[j]\n",
    "\n",
    "    for i in range(n_tasks):\n",
    "        ratios[i][:] = STL_errors[i] / errors[i]\n",
    "        \n",
    "    return ratios"
   ]
  },
  {
   "cell_type": "code",
   "execution_count": 111,
   "metadata": {},
   "outputs": [],
   "source": [
    "np.random.seed(1)\n",
    "\n",
    "fracs = np.pi / 4 - np.array([deg_to_rad(2*i) for i in range(9)])\n",
    "fracs = fracs[::-1]\n",
    "fracs = np.concatenate(([0], fracs))\n",
    "\n",
    "n_mc=40 # n monte carlo iterations\n",
    "n_training_sets=50\n",
    "m=500 # amount of data from each task to estimate the risk\n",
    "\n",
    "\n",
    "n_tasks = len(fracs)\n",
    "ns = n_tasks * [100]\n",
    "\n",
    "n1s = np.array([50, 100, 200, 500, 1000])"
   ]
  },
  {
   "cell_type": "code",
   "execution_count": 113,
   "metadata": {},
   "outputs": [
    {
     "name": "stderr",
     "output_type": "stream",
     "text": [
      "\n",
      "\n",
      "\n",
      "\n",
      "\n",
      "\n",
      "\n",
      "\n",
      "\n",
      "\n",
      "\n",
      "\n",
      "\n",
      "\n",
      "\n",
      "\n",
      "\n",
      "\n",
      "\n",
      "\n",
      "\n",
      "\n",
      "\n",
      "\n",
      "\n",
      "\n",
      "\n",
      "\n",
      "\n",
      "\n",
      "  0%|          | 0/5 [00:00<?, ?it/s]\u001b[A\u001b[A\u001b[A\u001b[A\u001b[A\u001b[A\u001b[A\u001b[A\u001b[A\u001b[A\u001b[A\u001b[A\u001b[A\u001b[A\u001b[A\u001b[A\u001b[A\u001b[A\u001b[A\u001b[A\u001b[A\u001b[A\u001b[A\u001b[A\u001b[A\u001b[A\u001b[A\u001b[A\u001b[A\u001b[A"
     ]
    },
    {
     "name": "stdout",
     "output_type": "stream",
     "text": [
      "[50, 100, 100, 100, 100, 100, 100, 100, 100, 100]\n"
     ]
    },
    {
     "ename": "KeyboardInterrupt",
     "evalue": "",
     "output_type": "error",
     "traceback": [
      "\u001b[0;31m---------------------------------------------------------------------------\u001b[0m",
      "\u001b[0;31mKeyboardInterrupt\u001b[0m                         Traceback (most recent call last)",
      "\u001b[0;32m<ipython-input-113-1bb05a6161cd>\u001b[0m in \u001b[0;36m<module>\u001b[0;34m\u001b[0m\n\u001b[1;32m      7\u001b[0m     \u001b[0mcondensed_func\u001b[0m \u001b[0;34m=\u001b[0m \u001b[0;32mlambda\u001b[0m \u001b[0mx\u001b[0m \u001b[0;34m:\u001b[0m \u001b[0mrxor_suite_experiment\u001b[0m\u001b[0;34m(\u001b[0m\u001b[0mx\u001b[0m\u001b[0;34m,\u001b[0m \u001b[0mns\u001b[0m\u001b[0;34m,\u001b[0m \u001b[0mfracs\u001b[0m\u001b[0;34m,\u001b[0m \u001b[0mgenerate_gaussian_parity\u001b[0m\u001b[0;34m)\u001b[0m\u001b[0;34m\u001b[0m\u001b[0;34m\u001b[0m\u001b[0m\n\u001b[1;32m      8\u001b[0m \u001b[0;34m\u001b[0m\u001b[0m\n\u001b[0;32m----> 9\u001b[0;31m     \u001b[0mtemp_ratios\u001b[0m \u001b[0;34m=\u001b[0m \u001b[0mnp\u001b[0m\u001b[0;34m.\u001b[0m\u001b[0marray\u001b[0m\u001b[0;34m(\u001b[0m\u001b[0mParallel\u001b[0m\u001b[0;34m(\u001b[0m\u001b[0mn_jobs\u001b[0m\u001b[0;34m=\u001b[0m\u001b[0;34m-\u001b[0m\u001b[0;36m2\u001b[0m\u001b[0;34m)\u001b[0m\u001b[0;34m(\u001b[0m\u001b[0mdelayed\u001b[0m\u001b[0;34m(\u001b[0m\u001b[0mcondensed_func\u001b[0m\u001b[0;34m)\u001b[0m\u001b[0;34m(\u001b[0m\u001b[0mint\u001b[0m\u001b[0;34m(\u001b[0m\u001b[0mx\u001b[0m\u001b[0;34m)\u001b[0m\u001b[0;34m)\u001b[0m \u001b[0;32mfor\u001b[0m \u001b[0mx\u001b[0m \u001b[0;32min\u001b[0m \u001b[0;36m30\u001b[0m\u001b[0;34m*\u001b[0m\u001b[0mnp\u001b[0m\u001b[0;34m.\u001b[0m\u001b[0mones\u001b[0m\u001b[0;34m(\u001b[0m\u001b[0;36m10\u001b[0m\u001b[0;34m)\u001b[0m\u001b[0;34m)\u001b[0m\u001b[0;34m)\u001b[0m\u001b[0;34m\u001b[0m\u001b[0;34m\u001b[0m\u001b[0m\n\u001b[0m\u001b[1;32m     10\u001b[0m \u001b[0;34m\u001b[0m\u001b[0m\n\u001b[1;32m     11\u001b[0m     \u001b[0;32mfor\u001b[0m \u001b[0mi\u001b[0m \u001b[0;32min\u001b[0m \u001b[0mrange\u001b[0m\u001b[0;34m(\u001b[0m\u001b[0mn_tasks\u001b[0m\u001b[0;34m)\u001b[0m\u001b[0;34m:\u001b[0m\u001b[0;34m\u001b[0m\u001b[0;34m\u001b[0m\u001b[0m\n",
      "\u001b[0;32m~/virtualenvs/hh/lib/python3.6/site-packages/joblib/parallel.py\u001b[0m in \u001b[0;36m__call__\u001b[0;34m(self, iterable)\u001b[0m\n\u001b[1;32m   1014\u001b[0m \u001b[0;34m\u001b[0m\u001b[0m\n\u001b[1;32m   1015\u001b[0m             \u001b[0;32mwith\u001b[0m \u001b[0mself\u001b[0m\u001b[0;34m.\u001b[0m\u001b[0m_backend\u001b[0m\u001b[0;34m.\u001b[0m\u001b[0mretrieval_context\u001b[0m\u001b[0;34m(\u001b[0m\u001b[0;34m)\u001b[0m\u001b[0;34m:\u001b[0m\u001b[0;34m\u001b[0m\u001b[0;34m\u001b[0m\u001b[0m\n\u001b[0;32m-> 1016\u001b[0;31m                 \u001b[0mself\u001b[0m\u001b[0;34m.\u001b[0m\u001b[0mretrieve\u001b[0m\u001b[0;34m(\u001b[0m\u001b[0;34m)\u001b[0m\u001b[0;34m\u001b[0m\u001b[0;34m\u001b[0m\u001b[0m\n\u001b[0m\u001b[1;32m   1017\u001b[0m             \u001b[0;31m# Make sure that we get a last message telling us we are done\u001b[0m\u001b[0;34m\u001b[0m\u001b[0;34m\u001b[0m\u001b[0;34m\u001b[0m\u001b[0m\n\u001b[1;32m   1018\u001b[0m             \u001b[0melapsed_time\u001b[0m \u001b[0;34m=\u001b[0m \u001b[0mtime\u001b[0m\u001b[0;34m.\u001b[0m\u001b[0mtime\u001b[0m\u001b[0;34m(\u001b[0m\u001b[0;34m)\u001b[0m \u001b[0;34m-\u001b[0m \u001b[0mself\u001b[0m\u001b[0;34m.\u001b[0m\u001b[0m_start_time\u001b[0m\u001b[0;34m\u001b[0m\u001b[0;34m\u001b[0m\u001b[0m\n",
      "\u001b[0;32m~/virtualenvs/hh/lib/python3.6/site-packages/joblib/parallel.py\u001b[0m in \u001b[0;36mretrieve\u001b[0;34m(self)\u001b[0m\n\u001b[1;32m    906\u001b[0m             \u001b[0;32mtry\u001b[0m\u001b[0;34m:\u001b[0m\u001b[0;34m\u001b[0m\u001b[0;34m\u001b[0m\u001b[0m\n\u001b[1;32m    907\u001b[0m                 \u001b[0;32mif\u001b[0m \u001b[0mgetattr\u001b[0m\u001b[0;34m(\u001b[0m\u001b[0mself\u001b[0m\u001b[0;34m.\u001b[0m\u001b[0m_backend\u001b[0m\u001b[0;34m,\u001b[0m \u001b[0;34m'supports_timeout'\u001b[0m\u001b[0;34m,\u001b[0m \u001b[0;32mFalse\u001b[0m\u001b[0;34m)\u001b[0m\u001b[0;34m:\u001b[0m\u001b[0;34m\u001b[0m\u001b[0;34m\u001b[0m\u001b[0m\n\u001b[0;32m--> 908\u001b[0;31m                     \u001b[0mself\u001b[0m\u001b[0;34m.\u001b[0m\u001b[0m_output\u001b[0m\u001b[0;34m.\u001b[0m\u001b[0mextend\u001b[0m\u001b[0;34m(\u001b[0m\u001b[0mjob\u001b[0m\u001b[0;34m.\u001b[0m\u001b[0mget\u001b[0m\u001b[0;34m(\u001b[0m\u001b[0mtimeout\u001b[0m\u001b[0;34m=\u001b[0m\u001b[0mself\u001b[0m\u001b[0;34m.\u001b[0m\u001b[0mtimeout\u001b[0m\u001b[0;34m)\u001b[0m\u001b[0;34m)\u001b[0m\u001b[0;34m\u001b[0m\u001b[0;34m\u001b[0m\u001b[0m\n\u001b[0m\u001b[1;32m    909\u001b[0m                 \u001b[0;32melse\u001b[0m\u001b[0;34m:\u001b[0m\u001b[0;34m\u001b[0m\u001b[0;34m\u001b[0m\u001b[0m\n\u001b[1;32m    910\u001b[0m                     \u001b[0mself\u001b[0m\u001b[0;34m.\u001b[0m\u001b[0m_output\u001b[0m\u001b[0;34m.\u001b[0m\u001b[0mextend\u001b[0m\u001b[0;34m(\u001b[0m\u001b[0mjob\u001b[0m\u001b[0;34m.\u001b[0m\u001b[0mget\u001b[0m\u001b[0;34m(\u001b[0m\u001b[0;34m)\u001b[0m\u001b[0;34m)\u001b[0m\u001b[0;34m\u001b[0m\u001b[0;34m\u001b[0m\u001b[0m\n",
      "\u001b[0;32m~/virtualenvs/hh/lib/python3.6/site-packages/joblib/_parallel_backends.py\u001b[0m in \u001b[0;36mwrap_future_result\u001b[0;34m(future, timeout)\u001b[0m\n\u001b[1;32m    552\u001b[0m         AsyncResults.get from multiprocessing.\"\"\"\n\u001b[1;32m    553\u001b[0m         \u001b[0;32mtry\u001b[0m\u001b[0;34m:\u001b[0m\u001b[0;34m\u001b[0m\u001b[0;34m\u001b[0m\u001b[0m\n\u001b[0;32m--> 554\u001b[0;31m             \u001b[0;32mreturn\u001b[0m \u001b[0mfuture\u001b[0m\u001b[0;34m.\u001b[0m\u001b[0mresult\u001b[0m\u001b[0;34m(\u001b[0m\u001b[0mtimeout\u001b[0m\u001b[0;34m=\u001b[0m\u001b[0mtimeout\u001b[0m\u001b[0;34m)\u001b[0m\u001b[0;34m\u001b[0m\u001b[0;34m\u001b[0m\u001b[0m\n\u001b[0m\u001b[1;32m    555\u001b[0m         \u001b[0;32mexcept\u001b[0m \u001b[0mLokyTimeoutError\u001b[0m\u001b[0;34m:\u001b[0m\u001b[0;34m\u001b[0m\u001b[0;34m\u001b[0m\u001b[0m\n\u001b[1;32m    556\u001b[0m             \u001b[0;32mraise\u001b[0m \u001b[0mTimeoutError\u001b[0m\u001b[0;34m(\u001b[0m\u001b[0;34m)\u001b[0m\u001b[0;34m\u001b[0m\u001b[0;34m\u001b[0m\u001b[0m\n",
      "\u001b[0;32m/usr/lib/python3.6/concurrent/futures/_base.py\u001b[0m in \u001b[0;36mresult\u001b[0;34m(self, timeout)\u001b[0m\n\u001b[1;32m    425\u001b[0m                 \u001b[0;32mreturn\u001b[0m \u001b[0mself\u001b[0m\u001b[0;34m.\u001b[0m\u001b[0m__get_result\u001b[0m\u001b[0;34m(\u001b[0m\u001b[0;34m)\u001b[0m\u001b[0;34m\u001b[0m\u001b[0;34m\u001b[0m\u001b[0m\n\u001b[1;32m    426\u001b[0m \u001b[0;34m\u001b[0m\u001b[0m\n\u001b[0;32m--> 427\u001b[0;31m             \u001b[0mself\u001b[0m\u001b[0;34m.\u001b[0m\u001b[0m_condition\u001b[0m\u001b[0;34m.\u001b[0m\u001b[0mwait\u001b[0m\u001b[0;34m(\u001b[0m\u001b[0mtimeout\u001b[0m\u001b[0;34m)\u001b[0m\u001b[0;34m\u001b[0m\u001b[0;34m\u001b[0m\u001b[0m\n\u001b[0m\u001b[1;32m    428\u001b[0m \u001b[0;34m\u001b[0m\u001b[0m\n\u001b[1;32m    429\u001b[0m             \u001b[0;32mif\u001b[0m \u001b[0mself\u001b[0m\u001b[0;34m.\u001b[0m\u001b[0m_state\u001b[0m \u001b[0;32min\u001b[0m \u001b[0;34m[\u001b[0m\u001b[0mCANCELLED\u001b[0m\u001b[0;34m,\u001b[0m \u001b[0mCANCELLED_AND_NOTIFIED\u001b[0m\u001b[0;34m]\u001b[0m\u001b[0;34m:\u001b[0m\u001b[0;34m\u001b[0m\u001b[0;34m\u001b[0m\u001b[0m\n",
      "\u001b[0;32m/usr/lib/python3.6/threading.py\u001b[0m in \u001b[0;36mwait\u001b[0;34m(self, timeout)\u001b[0m\n\u001b[1;32m    293\u001b[0m         \u001b[0;32mtry\u001b[0m\u001b[0;34m:\u001b[0m    \u001b[0;31m# restore state no matter what (e.g., KeyboardInterrupt)\u001b[0m\u001b[0;34m\u001b[0m\u001b[0;34m\u001b[0m\u001b[0m\n\u001b[1;32m    294\u001b[0m             \u001b[0;32mif\u001b[0m \u001b[0mtimeout\u001b[0m \u001b[0;32mis\u001b[0m \u001b[0;32mNone\u001b[0m\u001b[0;34m:\u001b[0m\u001b[0;34m\u001b[0m\u001b[0;34m\u001b[0m\u001b[0m\n\u001b[0;32m--> 295\u001b[0;31m                 \u001b[0mwaiter\u001b[0m\u001b[0;34m.\u001b[0m\u001b[0macquire\u001b[0m\u001b[0;34m(\u001b[0m\u001b[0;34m)\u001b[0m\u001b[0;34m\u001b[0m\u001b[0;34m\u001b[0m\u001b[0m\n\u001b[0m\u001b[1;32m    296\u001b[0m                 \u001b[0mgotit\u001b[0m \u001b[0;34m=\u001b[0m \u001b[0;32mTrue\u001b[0m\u001b[0;34m\u001b[0m\u001b[0;34m\u001b[0m\u001b[0m\n\u001b[1;32m    297\u001b[0m             \u001b[0;32melse\u001b[0m\u001b[0;34m:\u001b[0m\u001b[0;34m\u001b[0m\u001b[0;34m\u001b[0m\u001b[0m\n",
      "\u001b[0;31mKeyboardInterrupt\u001b[0m: "
     ]
    }
   ],
   "source": [
    "ratios = [[np.zeros((n_tasks-i, n_mc)) for i in range(n_tasks)] for j in n1s]\n",
    "\n",
    "for k, n1 in enumerate(tqdm(n1s)): \n",
    "    ns[0] = n1\n",
    "    \n",
    "    condensed_func = lambda x : rxor_suite_experiment(x, ns, fracs, generate_gaussian_parity)\n",
    "    \n",
    "    temp_ratios = np.array(Parallel(n_jobs=-2)(delayed(condensed_func)(int(x)) for x in 30*np.ones(10)))\n",
    "    \n",
    "    for i in range(n_tasks):\n",
    "        ratios[k][i] = np.array([temp_ratios[_][i] for _ in range(10)])"
   ]
  },
  {
   "cell_type": "code",
   "execution_count": 92,
   "metadata": {},
   "outputs": [
    {
     "data": {
      "text/plain": [
       "[[array([1.        , 0.88495575, 0.92592593]),\n",
       "  array([1.19327731, 1.36538462]),\n",
       "  array([1.5483871])],\n",
       " [array([1.        , 0.77586207, 0.80357143]),\n",
       "  array([1.22222222, 1.18705036]),\n",
       "  array([1.4469697])]]"
      ]
     },
     "execution_count": 92,
     "metadata": {},
     "output_type": "execute_result"
    }
   ],
   "source": [
    "temp_ratios"
   ]
  },
  {
   "cell_type": "code",
   "execution_count": null,
   "metadata": {},
   "outputs": [],
   "source": [
    "import seaborn as sns\n",
    "sns.set()\n",
    "\n",
    "mean_ratios = [[np.mean(ratios[k][i],axis=0) for i in range(3)] for k in range(len(n1s))]\n",
    "std_ratios = [[np.std(ratios[k][i],ddof=1,axis=0) for i in range(3)] for k in range(len(n1s))]"
   ]
  },
  {
   "cell_type": "code",
   "execution_count": 73,
   "metadata": {},
   "outputs": [
    {
     "name": "stdout",
     "output_type": "stream",
     "text": [
      "0 0\n",
      "1 0\n",
      "0 1\n",
      "1 1\n",
      "0 2\n",
      "1 2\n",
      "0 3\n",
      "1 3\n",
      "0 4\n",
      "1 4\n"
     ]
    },
    {
     "data": {
      "image/png": "[encoded data removed]",
      "text/plain": [
       "<Figure size 576x576 with 1 Axes>"
      ]
     },
     "metadata": {},
     "output_type": "display_data"
    }
   ],
   "source": [
    "# mean_opt_ratios = [np.mean(optimal_ratios[i],axis=0) for i in range(n_tasks)]\n",
    "\n",
    "fig, ax = plt.subplots(1,1, figsize=(8,8))\n",
    "c = sns.color_palette('YlOrRd', n_colors=9)\n",
    "c = np.concatenate((c, [(0,0,0)]))\n",
    "\n",
    "for k in range(len(n1s)):\n",
    "    for i in range(3 - 1):\n",
    "        print(i, k)\n",
    "        ns = np.arange(i + 1, n_tasks + 1)\n",
    "        ax.plot(ns[i:3],np.array(mean_ratios[k][i]), label = 'task %i'%(i+1), c=c[-i-1], linewidth=5, zorder=i+1)\n",
    "    #     ax.plot(ns, mean_ratios[i])\n",
    "\n",
    "        ax.fill_between(ns[i:3], \n",
    "            mean_ratios[k][i] + 1.96*std_ratios[k][i]/np.sqrt(n_mc), \n",
    "            mean_ratios[k][i] - 1.96*std_ratios[k][i]/np.sqrt(n_mc), \n",
    "            where=mean_ratios[k][i] + 1.96*std_ratios[k][i]/np.sqrt(n_mc) >= mean_ratios[k][i] - 1.96*std_ratios[k][i]/np.sqrt(n_mc), \n",
    "            facecolor=c[-i-1], \n",
    "            alpha=0.15,\n",
    "            interpolate=True, zorder=i+1)\n",
    "    \n",
    "    \n",
    "# ax.scatter(n_tasks, mean_ratios[-1], c = c[0], label='task %i'%(n_tasks), s = 20,zorder=11)\n",
    "# ax.errorbar(10, mean_ratios[-1], yerr=1.96*std_ratios[-1]/np.sqrt(n_mc), c=c[0], zorder=11)\n",
    "\n",
    "    \n",
    "ax.set_title('Lifelong Forests on R-XOR Suite', fontsize=30)\n",
    "ax.set_xlabel('Number of tasks seen', fontsize=27.5)\n",
    "ax.set_ylabel('Transfer Efficiency', fontsize=27.5)\n",
    "ax.set_ylim(0, 2.1)\n",
    "ax.set_xticks(np.arange(1,n_tasks+1))\n",
    "ax.set_yticks([0, 1, 2])\n",
    "ax.tick_params(labelsize=25)\n",
    "ax.grid(axis='x')\n",
    "plt.tight_layout()\n",
    "# plt.savefig('rxors_suite_combined.png', dpi=500)"
   ]
  },
  {
   "cell_type": "code",
   "execution_count": 64,
   "metadata": {},
   "outputs": [
    {
     "data": {
      "text/plain": [
       "array([1.16983155, 0.66984984])"
      ]
     },
     "execution_count": 64,
     "metadata": {},
     "output_type": "execute_result"
    }
   ],
   "source": [
    "mean_ratios[0][0]"
   ]
  },
  {
   "cell_type": "code",
   "execution_count": null,
   "metadata": {},
   "outputs": [],
   "source": []
  },
  {
   "cell_type": "code",
   "execution_count": null,
   "metadata": {},
   "outputs": [],
   "source": []
  },
  {
   "cell_type": "code",
   "execution_count": null,
   "metadata": {},
   "outputs": [],
   "source": []
  },
  {
   "cell_type": "code",
   "execution_count": null,
   "metadata": {},
   "outputs": [],
   "source": []
  },
  {
   "cell_type": "code",
   "execution_count": 15,
   "metadata": {},
   "outputs": [
    {
     "data": {
      "application/vnd.jupyter.widget-view+json": {
       "model_id": "f2bd677048154a98999175ef73d7b894",
       "version_major": 2,
       "version_minor": 0
      },
      "text/plain": [
       "HBox(children=(IntProgress(value=0, max=2), HTML(value='')))"
      ]
     },
     "metadata": {},
     "output_type": "display_data"
    },
    {
     "name": "stdout",
     "output_type": "stream",
     "text": [
      "\n"
     ]
    },
    {
     "data": {
      "application/vnd.jupyter.widget-view+json": {
       "model_id": "0f30a633fa1e4f56b22a5b46a7984903",
       "version_major": 2,
       "version_minor": 0
      },
      "text/plain": [
       "HBox(children=(IntProgress(value=0, max=2), HTML(value='')))"
      ]
     },
     "metadata": {},
     "output_type": "display_data"
    },
    {
     "name": "stdout",
     "output_type": "stream",
     "text": [
      "\n"
     ]
    },
    {
     "data": {
      "application/vnd.jupyter.widget-view+json": {
       "model_id": "4556695ed93145ac85a314becab2d7bd",
       "version_major": 2,
       "version_minor": 0
      },
      "text/plain": [
       "HBox(children=(IntProgress(value=0, max=2), HTML(value='')))"
      ]
     },
     "metadata": {},
     "output_type": "display_data"
    },
    {
     "name": "stdout",
     "output_type": "stream",
     "text": [
      "\n"
     ]
    },
    {
     "data": {
      "application/vnd.jupyter.widget-view+json": {
       "model_id": "a8cd92b31fe4487e962aa6d688ec5ea7",
       "version_major": 2,
       "version_minor": 0
      },
      "text/plain": [
       "HBox(children=(IntProgress(value=0, max=2), HTML(value='')))"
      ]
     },
     "metadata": {},
     "output_type": "display_data"
    },
    {
     "name": "stdout",
     "output_type": "stream",
     "text": [
      "\n"
     ]
    },
    {
     "data": {
      "application/vnd.jupyter.widget-view+json": {
       "model_id": "14c59b89d6cd4bac97c2f443f228deea",
       "version_major": 2,
       "version_minor": 0
      },
      "text/plain": [
       "HBox(children=(IntProgress(value=0, max=2), HTML(value='')))"
      ]
     },
     "metadata": {},
     "output_type": "display_data"
    },
    {
     "name": "stdout",
     "output_type": "stream",
     "text": [
      "\n"
     ]
    }
   ],
   "source": [
    "errors = [[np.zeros((n_tasks-i, n_mc)) for i in range(n_tasks)] for j in n1s]\n",
    "STL_errors = np.zeros((len(n1s), n_tasks, n_mc))\n",
    "\n",
    "ratios = [[np.zeros((n_tasks-i, n_mc)) for i in range(n_tasks)] for j in n1s]\n",
    "\n",
    "d=2\n",
    "\n",
    "for k, n1 in enumerate(tqdm(n1s)): \n",
    "    ns[0] = n1\n",
    "    \n",
    "    # can trivially parallelize below\n",
    "    for _ in tqdm(range(n_mc)):\n",
    "        for i in range(n_tasks):\n",
    "            risks = np.zeros((i+1,n_training_sets)) \n",
    "            STL_risks = np.zeros(n_training_sets) \n",
    "            for s in range(n_training_sets):\n",
    "                L2F = LifelongForest()\n",
    "                for j, f in enumerate(fracs[:i+1]):\n",
    "                    temp_X, temp_y = generate_gaussian_parity(ns[j], cov_scale=0.1, angle_params=f, k=1)\n",
    "                    L2F.new_forest(temp_X, temp_y, n_estimators=int(np.sqrt(ns[j])))\n",
    "\n",
    "                for j, f in enumerate(fracs[:i+1]):\n",
    "                    test_X, test_y = generate_gaussian_parity(m, cov_scale=0.1, angle_params=f, k=1)\n",
    "\n",
    "                    risks[j,s] = 1 - np.sum(L2F.predict(test_X, representation='all', decider=j) == test_y)/m\n",
    "                STL_risks[s] = 1 - np.sum(L2F.predict(test_X, representation=i, decider=i) == test_y)/m\n",
    "\n",
    "            STL_errors[k, i, _] = np.mean(STL_risks)\n",
    "\n",
    "            average_risks = np.mean(risks, axis=1)\n",
    "            for j in range(i+1):\n",
    "                errors[k][j][i-j, _] = average_risks[j]\n",
    "\n",
    "        for i in range(n_tasks):\n",
    "            ratios[k][i][:, _] = STL_errors[k, i, _] / errors[k][i][:, _]"
   ]
  }
 ],
 "metadata": {
  "kernelspec": {
   "display_name": "hh",
   "language": "python",
   "name": "hh"
  },
  "language_info": {
   "codemirror_mode": {
    "name": "ipython",
    "version": 3
   },
   "file_extension": ".py",
   "mimetype": "text/x-python",
   "name": "python",
   "nbconvert_exporter": "python",
   "pygments_lexer": "ipython3",
   "version": "3.6.7"
  }
 },
 "nbformat": 4,
 "nbformat_minor": 2
}
